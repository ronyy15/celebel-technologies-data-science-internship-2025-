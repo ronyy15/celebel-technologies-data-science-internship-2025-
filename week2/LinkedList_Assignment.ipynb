{
 "cells": [
  {
   "cell_type": "markdown",
   "id": "e47486c0",
   "metadata": {},
   "source": [
    "## Week 2\n",
    "Assignment : To implement a Linked List in Python Using OOP and Delete the Nth Node\n",
    "\n",
    "**Features to implement:**\n",
    "- Node class\n",
    "- LinkedList class with add, print, delete Nth node\n",
    "- Exception handling\n",
    "- Sample test cases\n"
   ]
  },
  {
   "cell_type": "markdown",
   "id": "680c486a",
   "metadata": {},
   "source": [
    "##  Step 1: Define the Node Class\n"
   ]
  },
  {
   "cell_type": "code",
   "execution_count": 1,
   "id": "2301936a",
   "metadata": {},
   "outputs": [],
   "source": [
    "class Node:\n",
    "    def __init__(self,data):\n",
    "        self.data= data\n",
    "        self.next= None"
   ]
  },
  {
   "cell_type": "markdown",
   "id": "91eb177c",
   "metadata": {},
   "source": [
    "## Step 2: Define the LinkedList Class with All Functionalities\n"
   ]
  },
  {
   "cell_type": "code",
   "execution_count": 4,
   "id": "d79a3782",
   "metadata": {},
   "outputs": [],
   "source": [
    "class LinkedList:\n",
    "    def __init__(self):\n",
    "        self.head= None\n",
    "\n",
    "    def add_node(self,data):\n",
    "        new_node= Node(data)\n",
    "        if not self.head:\n",
    "            self.head= new_node\n",
    "        else:\n",
    "            current= self.head\n",
    "            while current.next:\n",
    "                current= current.next\n",
    "            current.next=new_node \n",
    "\n",
    "    def print_list(self):\n",
    "        if not self.head:\n",
    "            print(\"List is empty.\")\n",
    "            return\n",
    "        current= self.head\n",
    "        while current:\n",
    "            print(current.data, end= \" -> \")\n",
    "            current= current.next\n",
    "        print(\"None\")\n",
    "\n",
    "    def delete_nth_node(self,n):\n",
    "        try:\n",
    "            if n <= 0:\n",
    "                raise IndexError(\"Index must be 1 or greater\")\n",
    "            if not self.head:\n",
    "                raise Exception(\"Cannot delete from an empty list\")\n",
    "            if n==1:\n",
    "                print(f\"Deleted node with value:{self.head.data}\")\n",
    "                self.head= self.head.next\n",
    "                return\n",
    "            \n",
    "            current= self.head\n",
    "            prev= None\n",
    "            count = 1\n",
    "            while current and count < n:\n",
    "                prev = current\n",
    "                current = current.next\n",
    "                count += 1\n",
    "            if not current:\n",
    "                raise IndexError(\"Index out of range.\")\n",
    "            print(f\"Deleted node with value: {current.data}\")\n",
    "            prev.next= current.next\n",
    "        except Exception as e:\n",
    "            print(\"Error:\", e)"
   ]
  },
  {
   "cell_type": "markdown",
   "id": "7327537c",
   "metadata": {},
   "source": [
    "## Step 3: Sample Test and Output\n"
   ]
  },
  {
   "cell_type": "code",
   "execution_count": 5,
   "id": "58aa1d34",
   "metadata": {},
   "outputs": [
    {
     "name": "stdout",
     "output_type": "stream",
     "text": [
      "Original List:\n",
      "10 -> 20 -> 30 -> 30 -> 40 -> 50 -> None\n",
      "\n",
      "Delete 1st node:\n",
      "Deleted node with value:10\n",
      "20 -> 30 -> 30 -> 40 -> 50 -> None\n",
      "\n",
      "Delete 10th node (invalid syntax):\n",
      "Error: Index out of range.\n",
      "20 -> 30 -> 30 -> 40 -> 50 -> None\n",
      "\n",
      "Delete from empty list:\n",
      "Error: Cannot delete from an empty list\n"
     ]
    }
   ],
   "source": [
    "# create list and test methods\n",
    "l1= LinkedList()\n",
    "\n",
    "# add nodes\n",
    "l1.add_node(10)\n",
    "l1.add_node(20)\n",
    "l1.add_node(30)\n",
    "l1.add_node(30)\n",
    "l1.add_node(40)\n",
    "l1.add_node(50)\n",
    "\n",
    "print(\"Original List:\")\n",
    "l1.print_list()\n",
    "\n",
    "print(\"\\nDelete 1st node:\")\n",
    "l1.delete_nth_node(1)\n",
    "l1.print_list()\n",
    "\n",
    "print(\"\\nDelete 10th node (invalid syntax):\")\n",
    "l1.delete_nth_node(10)\n",
    "l1.print_list()\n",
    "\n",
    "print(\"\\nDelete from empty list:\")\n",
    "empty_list= LinkedList()\n",
    "empty_list.delete_nth_node(1)\n"
   ]
  }
 ],
 "metadata": {
  "kernelspec": {
   "display_name": "base",
   "language": "python",
   "name": "python3"
  },
  "language_info": {
   "codemirror_mode": {
    "name": "ipython",
    "version": 3
   },
   "file_extension": ".py",
   "mimetype": "text/x-python",
   "name": "python",
   "nbconvert_exporter": "python",
   "pygments_lexer": "ipython3",
   "version": "3.11.7"
  }
 },
 "nbformat": 4,
 "nbformat_minor": 5
}
